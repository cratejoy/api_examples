{
 "cells": [
  {
   "cell_type": "markdown",
   "metadata": {},
   "source": [
    "# Example 1: The Cratejoy Shipments API"
   ]
  },
  {
   "cell_type": "markdown",
   "metadata": {},
   "source": [
    "This document illustrates how to interact with the Cratejoy shipments API. I'm using Python for illustration, but you can use whatever you want (cURL, Ruby, Java, JavaScript, etc). You don't want to use this from your Cratejoy theme, however, because you'd have to store your auth credentials in your publicly-accessible JavaScript files.\n",
    "\n",
    "Here's an outline of this document:\n",
    "\n",
    "- Import modules we'll need throughout the example\n",
    "- Declare our auth credentials and the URL of the shipments API\n",
    "- Use the endpoint to retrieve all of my shipments\n",
    "- Mark a shipment as shipped"
   ]
  },
  {
   "cell_type": "markdown",
   "metadata": {},
   "source": [
    "### Imports, auth, and the URL"
   ]
  },
  {
   "cell_type": "code",
   "execution_count": 12,
   "metadata": {
    "collapsed": false
   },
   "outputs": [],
   "source": [
    "import json\n",
    "import requests\n",
    "\n",
    "\n",
    "# Auth is your basic auth credentials ('username', 'password')\n",
    "auth = ('blake', 'password')\n",
    "base_url = 'http://api.cratejoy.com/v1/shipments/'"
   ]
  },
  {
   "cell_type": "markdown",
   "metadata": {},
   "source": [
    "### Getting all of my shipments\n",
    "\n",
    "First we'll use the python requests library to make a GET request to the shipments endpoint (and make sure the response came back normal)."
   ]
  },
  {
   "cell_type": "code",
   "execution_count": 13,
   "metadata": {
    "collapsed": false
   },
   "outputs": [
    {
     "name": "stdout",
     "output_type": "stream",
     "text": [
      "The Cratejoy API responded with status code: 200\n"
     ]
    }
   ],
   "source": [
    "response = requests.get(base_url, auth=auth)\n",
    "print 'The Cratejoy API responded with status code:', response.status_code\n",
    "\n",
    "response_json = response.json()"
   ]
  },
  {
   "cell_type": "markdown",
   "metadata": {},
   "source": [
    "#### Response data\n",
    "Now let's look at the data. It's too much information to print out at all at once, but it boils down to the results of our query (along with some extra metadata). REST APIs often return data this way when you hit the index of some endpoint. In particular, we're interested in these fields:\n",
    "\n",
    "- count: How many shipments I have in the system\n",
    "- results: Complete data for the first 10 shipments\n",
    "- next: The URL for next 10 shipments"
   ]
  },
  {
   "cell_type": "code",
   "execution_count": 20,
   "metadata": {
    "collapsed": false
   },
   "outputs": [
    {
     "name": "stdout",
     "output_type": "stream",
     "text": [
      "Fields: [u'count', u'prev', u'results', u'next']\n",
      "\n",
      "count: 18103\n",
      "\n",
      "next: ?page=1\n",
      "\n",
      "results: [{u'customer': {u'first_name': u'Rebecca', u'last_name': u'Plumlee', u'name': u'Rebecca Plumlee', u'num_orders': 1, u'country': u'US', u'total_revenue': 4497, u'store_settings': None, u'num_subscriptions': 1, u'id': 37722805, u'location': u'FL, US', u'subscription_status': u'active', u'type': u'customer', u'email': u'37722805@cjtest.com'}, u'status': u'unshipped', u'ship_address': {u'phone_number': u'', u'city': u'Altamonte Springs', u'country': u'US', u'company': u'', u'to': u'Rebecca Plumlee', u'state': u'FL', u'street': u'100 Spring Cove Trail', u'status': 1, u'type': u'address', u'zip_code': u'32714', u'status_message': None, u'id': 37722813, u'unit': u'', u'icon': u'United-States.png'}, u'fulfillments': [{u'status': u'open', u'total_cycles': 3, u'shipstation_dirty': True, u'fulfillment_date': 1437714000000, u'tax': 0, u'shipping': 299, u'shipment_id': 37722833, u'is_test': False, u'instance': {u'sku': u'SQ8701283', u'product_id': 3064085, u'gift': False, u'term_prices': [{u'term_id': 3064086, u'price': 1300, u'type': u'product_instance_subscription_type_term_price', u'id': 3064091}, {u'term_id': 3064087, u'price': 3600, u'type': u'product_instance_subscription_type_term_price', u'id': 3064092}, {u'term_id': 3064088, u'price': 6600, u'type': u'product_instance_subscription_type_term_price', u'id': 3064093}, {u'term_id': 3064089, u'price': 12000, u'type': u'product_instance_subscription_type_term_price', u'id': 3064094}], u'price': 0, u'ship_weight': 0.375, u'inventory': None, u'images': [], u'variants': [], u'type': u'product_instance', u'id': 3064090}, u'adjusted_fulfillment_date': 1437714000000, u'test': False, u'cycle_number': 2, u'type': u'fulfillment', u'id': 37722828}], u'url': u'/v1/shipments/37722833/', u'created_at': 1432443600000, u'labels': [], u'shipped_at': None, u'adjusted_ordered_at': 1437714000000, u'is_test': False, u'tracking_number': None, u'target_at': 1437714000000, u'type': u'shipment', u'id': 37722833}, {u'customer': {u'first_name': u'Rebecca', u'last_name': u'Plumlee', u'name': u'Rebecca Plumlee', u'num_orders': 1, u'country': u'US', u'total_revenue': 4497, u'store_settings': None, u'num_subscriptions': 1, u'id': 37722805, u'location': u'FL, US', u'subscription_status': u'active', u'type': u'customer', u'email': u'37722805@cjtest.com'}, u'status': u'unshipped', u'ship_address': {u'phone_number': u'', u'city': u'Altamonte Springs', u'country': u'US', u'company': u'', u'to': u'Rebecca Plumlee', u'state': u'FL', u'street': u'100 Spring Cove Trail', u'status': 1, u'type': u'address', u'zip_code': u'32714', u'status_message': None, u'id': 37722813, u'unit': u'', u'icon': u'United-States.png'}, u'fulfillments': [{u'status': u'open', u'total_cycles': 3, u'shipstation_dirty': False, u'fulfillment_date': 1435122000000, u'tax': 0, u'shipping': 299, u'shipment_id': 37722832, u'is_test': False, u'instance': {u'sku': u'SQ8701283', u'product_id': 3064085, u'gift': False, u'term_prices': [{u'term_id': 3064086, u'price': 1300, u'type': u'product_instance_subscription_type_term_price', u'id': 3064091}, {u'term_id': 3064087, u'price': 3600, u'type': u'product_instance_subscription_type_term_price', u'id': 3064092}, {u'term_id': 3064088, u'price': 6600, u'type': u'product_instance_subscription_type_term_price', u'id': 3064093}, {u'term_id': 3064089, u'price': 12000, u'type': u'product_instance_subscription_type_term_price', u'id': 3064094}], u'price': 0, u'ship_weight': 0.375, u'inventory': None, u'images': [], u'variants': [], u'type': u'product_instance', u'id': 3064090}, u'adjusted_fulfillment_date': 1435122000000, u'test': False, u'cycle_number': 1, u'type': u'fulfillment', u'id': 37722827}], u'url': u'/v1/shipments/37722832/', u'created_at': 1432443600000, u'labels': [], u'shipped_at': None, u'adjusted_ordered_at': 1435122000000, u'is_test': False, u'tracking_number': None, u'target_at': 1435122000000, u'type': u'shipment', u'id': 37722832}]\n"
     ]
    }
   ],
   "source": [
    "print 'Fields:', response_json.keys()\n",
    "print '\\ncount:', response_json['count']\n",
    "print '\\nnext:', response_json['next']\n",
    "print '\\nresults:', response_json['results'][0:2]  # (just print the first 2)\n"
   ]
  },
  {
   "cell_type": "markdown",
   "metadata": {},
   "source": [
    "#### ALL shipments\n",
    "We only get 10 results at a time, but we can use the 'next' field to make queries in a loop until a response comes back with a 'next' field of None (at which point we know we have the last page). It's bad API ettiquette to do this too quickly, so we'll put a little lag time in the loop."
   ]
  },
  {
   "cell_type": "code",
   "execution_count": null,
   "metadata": {
    "collapsed": true
   },
   "outputs": [],
   "source": [
    "import time\n",
    "\n",
    "response_blobs = [response_json]  # this will be a list of all our of json blobs\n",
    "\n",
    "while response_json['next']:\n",
    "    \n",
    "    response = requests.get(base_url + response_json['next'], auth=auth)\n",
    "    response_json = response.json()\n",
    "    \n",
    "    response_blobs.append(response_json)\n",
    "    \n",
    "    time.sleep(.1)"
   ]
  },
  {
   "cell_type": "markdown",
   "metadata": {},
   "source": [
    "### Marking as Shipped"
   ]
  },
  {
   "cell_type": "markdown",
   "metadata": {},
   "source": [
    "We can mark individual shipments as \"shipped\" through the API. This works the same as in the merchant portal. If you have the notification active, the customer will automatically be notified.\n",
    "\n",
    "Here we'll mark shipment #36014242 as shipped. First we need a JSON-encoded blob of data that represents the new status we're assigning to the shipment. Then we just make a PUT request to tell the Cratejoy back-end about the change. "
   ]
  },
  {
   "cell_type": "code",
   "execution_count": 9,
   "metadata": {
    "collapsed": false
   },
   "outputs": [
    {
     "name": "stdout",
     "output_type": "stream",
     "text": [
      "The Cratejoy API responded with status code: 401\n"
     ]
    }
   ],
   "source": [
    "shipment_url = base_url + '36014242/'\n",
    "mark_as_shipped_data = json.dumps({'status': 'shipped'})\n",
    "\n",
    "response = requests.put(shipment_url, auth=auth, data=mark_as_shipped_data)\n",
    "print 'The Cratejoy API responded with status code:', response.status_code"
   ]
  }
 ],
 "metadata": {
  "kernelspec": {
   "display_name": "Python 2",
   "language": "python",
   "name": "python2"
  },
  "language_info": {
   "codemirror_mode": {
    "name": "ipython",
    "version": 2
   },
   "file_extension": ".py",
   "mimetype": "text/x-python",
   "name": "python",
   "nbconvert_exporter": "python",
   "pygments_lexer": "ipython2",
   "version": "2.7.9"
  }
 },
 "nbformat": 4,
 "nbformat_minor": 0
}
