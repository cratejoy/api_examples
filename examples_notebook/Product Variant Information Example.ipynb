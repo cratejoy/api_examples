{
 "cells": [
  {
   "cell_type": "code",
   "execution_count": 4,
   "metadata": {
    "collapsed": false
   },
   "outputs": [
    {
     "name": "stdout",
     "output_type": "stream",
     "text": [
      "shirt size: Large\n"
     ]
    }
   ],
   "source": [
    "import requests\n",
    "\n",
    "\n",
    "# request boilerplate\n",
    "auth = ('blake', 'password')\n",
    "url = 'http://api.cratejoy.com/v1/shipments/?customer_id=738190'  # pull shipments for a customer\n",
    "\n",
    "# make the request\n",
    "response = requests.get(url, auth=auth)\n",
    "json_data = response.json()['results']\n",
    "\n",
    "# get the product variant information off of one of the shipments\n",
    "shipment = json_data[0]  # first shipment in the list\n",
    "first_fulfillment = shipment['fulfillments'][0]\n",
    "product_variant = first_fulfillment['instance']['variants'][0]\n",
    "\n",
    "# get the variant name and value from there\n",
    "variant_type_name = product_variant['variant_type']['name']\n",
    "variant_value = product_variant['variant_value']['value']\n",
    "\n",
    "print '{}: {}'.format(variant_type_name, variant_value)"
   ]
  },
  {
   "cell_type": "code",
   "execution_count": null,
   "metadata": {
    "collapsed": true
   },
   "outputs": [],
   "source": []
  }
 ],
 "metadata": {
  "kernelspec": {
   "display_name": "Python 2",
   "language": "python",
   "name": "python2"
  },
  "language_info": {
   "codemirror_mode": {
    "name": "ipython",
    "version": 2
   },
   "file_extension": ".py",
   "mimetype": "text/x-python",
   "name": "python",
   "nbconvert_exporter": "python",
   "pygments_lexer": "ipython2",
   "version": "2.7.9"
  }
 },
 "nbformat": 4,
 "nbformat_minor": 0
}
